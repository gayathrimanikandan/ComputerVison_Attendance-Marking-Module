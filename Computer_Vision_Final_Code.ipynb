{
  "nbformat": 4,
  "nbformat_minor": 0,
  "metadata": {
    "colab": {
      "name": "Computer_Vision_Final_Code.ipynb",
      "provenance": [],
      "collapsed_sections": []
    },
    "kernelspec": {
      "name": "python3",
      "display_name": "Python 3"
    },
    "accelerator": "GPU"
  },
  "cells": [
    {
      "cell_type": "markdown",
      "metadata": {
        "id": "Bj-JVMl9cv0Q",
        "colab_type": "text"
      },
      "source": [
        "### **Downloading required libraries to use**"
      ]
    },
    {
      "cell_type": "code",
      "metadata": {
        "id": "eoTypKotlZOO",
        "colab_type": "code",
        "colab": {}
      },
      "source": [
        "!pip install face_recognition\n",
        "!pip install dlib\n",
        "!pip install imutils\n",
        "# !pip install -v --install-option=\"--no\" --install-option=\"DLIB_USE_CUDA\" dlib"
      ],
      "execution_count": null,
      "outputs": []
    },
    {
      "cell_type": "markdown",
      "metadata": {
        "id": "M1J52LhR2Jqq",
        "colab_type": "text"
      },
      "source": [
        "### **Import Libraries**"
      ]
    },
    {
      "cell_type": "code",
      "metadata": {
        "id": "nDz0eB6m2ER4",
        "colab_type": "code",
        "colab": {}
      },
      "source": [
        "from imutils import paths\n",
        "import face_recognition\n",
        "import argparse\n",
        "import pickle\n",
        "import cv2\n",
        "import os"
      ],
      "execution_count": null,
      "outputs": []
    },
    {
      "cell_type": "code",
      "metadata": {
        "id": "D5_xIfYvFZ5l",
        "colab_type": "code",
        "colab": {}
      },
      "source": [
        "Google colab drive\n",
        "\n",
        "import glob\n",
        "from google.colab.patches import cv2_imshow\n",
        "from google.colab import drive\n",
        "drive.mount('/content/drive',force_remount=True)\n"
      ],
      "execution_count": null,
      "outputs": []
    },
    {
      "cell_type": "markdown",
      "metadata": {
        "id": "prLn2Uo62g_U",
        "colab_type": "text"
      },
      "source": [
        "### **Face Detection using HOG OpenCV**"
      ]
    },
    {
      "cell_type": "code",
      "metadata": {
        "id": "Y7MrKFF77fld",
        "colab_type": "code",
        "colab": {}
      },
      "source": [
        "\n",
        "print(\"quantifying faces\")\n",
        "\n",
        "# specify the path to the dataset\n",
        "imagePaths = list(paths.list_images('/dataset'))\n",
        "\n",
        "Encodings = []\n",
        "Names = []\n",
        "\n",
        "\n",
        "for (i, imagePath) in enumerate(imagePaths):\n",
        "\t\n",
        "\tname = imagePath.split(os.path.sep)[-2]\n",
        "\timage = cv2.imread(imagePath)\n",
        "\trgb = cv2.cvtColor(image, cv2.COLOR_BGR2RGB)\n",
        "\n",
        "\tboxes = face_recognition.face_locations(rgb,\n",
        "\t\tmodel=\"hog\")\n",
        "\n",
        "\tencodings = face_recognition.face_encodings(rgb, boxes)\n",
        "\n",
        "\tfor encoding in encodings:\n",
        "\t\tEncodings.append(encoding)\n",
        "\t\tNames.append(name)\n",
        "\tprint(name)\n",
        "\n",
        "\n",
        "print(\"serializing encodings...\")\n",
        "data = {\"encodings\": Encodings, \"names\": Names}\n",
        "f = open('encodings4.txt', \"wb\")\n",
        "f.write(pickle.dumps(data))\n",
        "f.close()"
      ],
      "execution_count": null,
      "outputs": []
    },
    {
      "cell_type": "markdown",
      "metadata": {
        "id": "_w9NosrM2qqd",
        "colab_type": "text"
      },
      "source": [
        "### **Loading encodings**"
      ]
    },
    {
      "cell_type": "code",
      "metadata": {
        "id": "CjpCBaA77lN-",
        "colab_type": "code",
        "colab": {}
      },
      "source": [
        "print(\"[INFO] loading encodings...\")\n",
        "data = pickle.loads(open('encodings4.txt', \"rb\").read())"
      ],
      "execution_count": null,
      "outputs": []
    },
    {
      "cell_type": "markdown",
      "metadata": {
        "id": "lM7SPbwb2x_V",
        "colab_type": "text"
      },
      "source": [
        "### **Face Recognition**"
      ]
    },
    {
      "cell_type": "code",
      "metadata": {
        "id": "FAtnw_YPl9vn",
        "colab_type": "code",
        "colab": {}
      },
      "source": [
        "image = cv2.imread('test6.jpg')\n",
        "print(image.shape)\n",
        "rgb = cv2.cvtColor(image, cv2.COLOR_BGR2RGB)"
      ],
      "execution_count": null,
      "outputs": []
    },
    {
      "cell_type": "code",
      "metadata": {
        "id": "711HFHTemFG2",
        "colab_type": "code",
        "colab": {}
      },
      "source": [
        "print(\"recognizing faces\")\n",
        "boxes = face_recognition.face_locations(rgb,\n",
        "\tmodel='hog')\n",
        "encodings = face_recognition.face_encodings(rgb, boxes)\n",
        "\n",
        "names = []"
      ],
      "execution_count": null,
      "outputs": []
    },
    {
      "cell_type": "code",
      "metadata": {
        "id": "hvQnHK_LmJvq",
        "colab_type": "code",
        "colab": {}
      },
      "source": [
        "for encoding in encodings:\t\n",
        "\t\n",
        "\tmatches = face_recognition.compare_faces(data[\"encodings\"],\n",
        "\t\tencoding)\n",
        "\tname = \"Unknown\"\n",
        "\n",
        "\tif True in matches:\n",
        "\t\t\n",
        "\t\tmatchedIdxs = [i for (i, b) in enumerate(matches) if b]\n",
        "\t\tcounts = {}\n",
        "\n",
        "\t\tfor i in matchedIdxs:\n",
        "\t\t\tname = data[\"names\"][i]\n",
        "\t\t\tcounts[name] = counts.get(name, 0) + 1\n",
        "\n",
        "\t\tname = max(counts, key=counts.get)\n",
        "\t\n",
        "\tnames.append(name)"
      ],
      "execution_count": null,
      "outputs": []
    },
    {
      "cell_type": "code",
      "metadata": {
        "id": "-6AWdW1UmGoO",
        "colab_type": "code",
        "colab": {}
      },
      "source": [
        "\n",
        "for ((top, right, bottom, left), name) in zip(boxes, names):\n",
        "\t\n",
        "\tcv2.rectangle(image, (left, top), (right, bottom), (0, 255, 255), 2)\n",
        "\ty = top - 15 if top - 15 > 15 else top + 15\n",
        "\tcv2.putText(image, name, (left, y), cv2.FONT_HERSHEY_SIMPLEX,\n",
        "\t\t0.75, (0, 255, 255), 2)\n",
        "\n",
        "\n",
        "\n",
        "cv2.imshow(\"Image\", image)\n",
        "\n",
        "#uncomment this to use in colab to show the image\n",
        "# cv2_imshow(image)\n",
        "cv2.waitKey(0)"
      ],
      "execution_count": null,
      "outputs": []
    }
  ]
}